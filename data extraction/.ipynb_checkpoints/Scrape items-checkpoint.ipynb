{
 "cells": [
  {
   "cell_type": "markdown",
   "metadata": {},
   "source": [
    "# Scrape items from sites and store details"
   ]
  },
  {
   "cell_type": "code",
   "execution_count": 39,
   "metadata": {},
   "outputs": [],
   "source": [
    "import requests\n",
    "import urllib\n",
    "from bs4 import BeautifulSoup\n",
    "import json\n",
    "import os\n",
    "import pandas as pd\n",
    "import numpy as np\n",
    "import pickle\n",
    "from tqdm import tqdm_notebook\n",
    "import datetime\n",
    "import time\n",
    "import importlib\n",
    "# import config\n",
    "# importlib.reload(config)\n",
    "# from config import username, password, application, dbpw\n",
    "import logging\n",
    "from selenium import webdriver"
   ]
  },
  {
   "cell_type": "code",
   "execution_count": 3,
   "metadata": {},
   "outputs": [
    {
     "data": {
      "text/html": [
       "<style>.container { width:100% !important; }</style>"
      ],
      "text/plain": [
       "<IPython.core.display.HTML object>"
      ]
     },
     "metadata": {},
     "output_type": "display_data"
    }
   ],
   "source": [
    "from IPython.core.display import display, HTML\n",
    "display(HTML(\"<style>.container { width:100% !important; }</style>\"))"
   ]
  },
  {
   "cell_type": "markdown",
   "metadata": {},
   "source": [
    "# First view html from all items urls"
   ]
  },
  {
   "cell_type": "code",
   "execution_count": 11,
   "metadata": {},
   "outputs": [],
   "source": [
    "all_items_url = 'https://groceries.morrisons.com/categories?sortBy=nameAscending'\n",
    "all_items_json = urllib.request.urlopen(all_items_url).read()\n",
    "all_items_soup = BeautifulSoup(all_items_json, 'html.parser')"
   ]
  },
  {
   "cell_type": "code",
   "execution_count": 17,
   "metadata": {},
   "outputs": [],
   "source": [
    "items = all_items_soup.text.split('\"productEntities\":')[1].split(',\"missedPromotions\"')[0]"
   ]
  },
  {
   "cell_type": "code",
   "execution_count": 23,
   "metadata": {},
   "outputs": [],
   "source": [
    "items_json = json.loads(items)"
   ]
  },
  {
   "cell_type": "code",
   "execution_count": 24,
   "metadata": {},
   "outputs": [
    {
     "data": {
      "text/plain": [
       "30"
      ]
     },
     "execution_count": 24,
     "metadata": {},
     "output_type": "execute_result"
    }
   ],
   "source": [
    "len(items_json)"
   ]
  },
  {
   "cell_type": "code",
   "execution_count": 36,
   "metadata": {},
   "outputs": [],
   "source": [
    "copied_items_str = 'COPY HERE'"
   ]
  },
  {
   "cell_type": "code",
   "execution_count": 27,
   "metadata": {},
   "outputs": [],
   "source": [
    "copied_items_soup = BeautifulSoup(copied_items_str, 'html.parser')"
   ]
  },
  {
   "cell_type": "code",
   "execution_count": 149,
   "metadata": {},
   "outputs": [],
   "source": [
    "#copied_items_soup"
   ]
  },
  {
   "cell_type": "code",
   "execution_count": 29,
   "metadata": {},
   "outputs": [],
   "source": [
    "title_split_start = '<h3 class=\"_text_16wi0_1 _text--m_16wi0_23\" data-test=\"fop-title\">'\n",
    "title_split_end = '</h3>'"
   ]
  },
  {
   "cell_type": "code",
   "execution_count": 37,
   "metadata": {},
   "outputs": [],
   "source": [
    "titles = copied_items_str.split(title_split_start)"
   ]
  },
  {
   "cell_type": "code",
   "execution_count": 38,
   "metadata": {},
   "outputs": [
    {
     "data": {
      "text/plain": [
       "9"
      ]
     },
     "execution_count": 38,
     "metadata": {},
     "output_type": "execute_result"
    }
   ],
   "source": [
    "len(titles)"
   ]
  },
  {
   "cell_type": "markdown",
   "metadata": {},
   "source": [
    "#### Items not appearing when not scrolled over - try to control with selenium"
   ]
  },
  {
   "cell_type": "code",
   "execution_count": 46,
   "metadata": {},
   "outputs": [],
   "source": [
    "from seleniumbase import Driver"
   ]
  },
  {
   "cell_type": "code",
   "execution_count": 171,
   "metadata": {},
   "outputs": [],
   "source": [
    "driver = Driver(browser=\"chrome\", headed=True)#webdriver.Chrome(ChromeDriverManager().install())\n",
    "driver.implicitly_wait(30)\n",
    "\n",
    "page_extracts = []\n",
    "SCROLL_PAUSE_TIME = 3\n",
    "SCROLL_INCREMENTS = 5000\n",
    "driver.get(\"https://groceries.morrisons.com/categories?sortBy=nameAscending\")\n",
    "driver.find_element_by_id('onetrust-accept-btn-handler').click()\n",
    "last_height = driver.execute_script(\"return document.body.scrollHeight\")\n",
    "\n",
    "for i in range(10):\n",
    "    #driver.execute_script(\"window.scrollTo(0, document.body.scrollHeight);\")\n",
    "    driver.execute_script(f\"window.scrollBy(0, {SCROLL_INCREMENTS});\")\n",
    "    \n",
    "    time.sleep(SCROLL_PAUSE_TIME)\n",
    "    \n",
    "    new_height = driver.execute_script(\"return document.body.scrollHeight\")\n",
    "    if new_height == last_height:\n",
    "        break\n",
    "    last_height = new_height\n",
    "\n",
    "    page_extracts.append(BeautifulSoup(driver.page_source, \"html.parser\"))\n",
    "\n",
    "    \n",
    "driver.quit()"
   ]
  },
  {
   "cell_type": "code",
   "execution_count": 176,
   "metadata": {},
   "outputs": [],
   "source": [
    "driver = Driver(browser=\"chrome\", headed=True)#webdriver.Chrome(ChromeDriverManager().install())\n",
    "driver.implicitly_wait(30)\n",
    "\n",
    "page_extracts = []\n",
    "driver.get(\"https://groceries.morrisons.com/categories?sortBy=nameAscending\")\n",
    "driver.find_element_by_id('onetrust-accept-btn-handler').click()\n",
    "page_extracts.append(BeautifulSoup(driver.page_source, \"html.parser\"))"
   ]
  },
  {
   "cell_type": "code",
   "execution_count": 170,
   "metadata": {},
   "outputs": [],
   "source": [
    "driver.execute_script(f\"window.scrollBy(0, 5000);\")"
   ]
  },
  {
   "cell_type": "code",
   "execution_count": 177,
   "metadata": {},
   "outputs": [
    {
     "data": {
      "text/plain": [
       "3267"
      ]
     },
     "execution_count": 177,
     "metadata": {},
     "output_type": "execute_result"
    }
   ],
   "source": [
    "driver.execute_script(\"return document.body.scrollHeight\")"
   ]
  },
  {
   "cell_type": "code",
   "execution_count": 196,
   "metadata": {},
   "outputs": [],
   "source": [
    "title_elements = driver.find_elements_by_class_name('_text_16wi0_1 _text--m_16wi0_23')"
   ]
  },
  {
   "cell_type": "code",
   "execution_count": 197,
   "metadata": {},
   "outputs": [
    {
     "data": {
      "text/plain": [
       "0"
      ]
     },
     "execution_count": 197,
     "metadata": {},
     "output_type": "execute_result"
    }
   ],
   "source": [
    "len(title_elements)"
   ]
  },
  {
   "cell_type": "code",
   "execution_count": 195,
   "metadata": {},
   "outputs": [
    {
     "data": {
      "text/plain": [
       "'<div class=\"title-container\"><div class=\"_skeleton_w1atz_12 sc-s8cxz-0 jNNTrq\" style=\"block-size: 100%; inline-size: 100%;\"></div></div>'"
      ]
     },
     "execution_count": 195,
     "metadata": {},
     "output_type": "execute_result"
    }
   ],
   "source": [
    "title_elements[-2].get_attribute('outerHTML')"
   ]
  },
  {
   "cell_type": "code",
   "execution_count": null,
   "metadata": {},
   "outputs": [],
   "source": [
    "<a tabindex=\"0\" class=\"_text_16wi0_1 _text--m_16wi0_23 _link-standalone_v2p9r_8\" data-synthetics=\"bop-link\" data-test=\"fop-product-link\" aria-label=\"Morrisons Strawberries\" href=\"/products/morrisons-strawberries/108473117\" data-discover=\"true\"><h3 class=\"_text_16wi0_1 _text--m_16wi0_23\" data-test=\"fop-title\">Morrisons Strawberries</h3></a>"
   ]
  },
  {
   "cell_type": "code",
   "execution_count": 187,
   "metadata": {},
   "outputs": [],
   "source": [
    "title_elements = driver.find_elements_by_class_name('//a[@aria-label=\"Morrisons Strawberries\"]')"
   ]
  },
  {
   "cell_type": "code",
   "execution_count": 188,
   "metadata": {},
   "outputs": [
    {
     "data": {
      "text/plain": [
       "'<a tabindex=\"-1\" class=\"_text_16wi0_1 _text--m_16wi0_23 _link-standalone_v2p9r_8 salt-d--inline salt-d--inline\" data-synthetics=\"bop-link\" data-test=\"fop-product-link\" aria-label=\"Morrisons Strawberries\" href=\"/products/morrisons-strawberries/108473117\" data-discover=\"true\"><div class=\"image-container\"><img data-test=\"lazy-load-image\" alt=\"Morrisons Strawberries\" src=\"https://groceries.morrisons.com/images-v3/4b85987b-1398-4173-a0c1-3546047c9d74/64769687-bb7e-4d58-bee1-d7b9d368b978/300x300.jpg\" srcset=\"https://groceries.morrisons.com/images-v3/4b85987b-1398-4173-a0c1-3546047c9d74/64769687-bb7e-4d58-bee1-d7b9d368b978/100x100.webp 100w, https://groceries.morrisons.com/images-v3/4b85987b-1398-4173-a0c1-3546047c9d74/64769687-bb7e-4d58-bee1-d7b9d368b978/150x150.webp 150w, https://groceries.morrisons.com/images-v3/4b85987b-1398-4173-a0c1-3546047c9d74/64769687-bb7e-4d58-bee1-d7b9d368b978/200x200.webp 200w, https://groceries.morrisons.com/images-v3/4b85987b-1398-4173-a0c1-3546047c9d74/64769687-bb7e-4d58-bee1-d7b9d368b978/300x300.webp 300w, https://groceries.morrisons.com/images-v3/4b85987b-1398-4173-a0c1-3546047c9d74/64769687-bb7e-4d58-bee1-d7b9d368b978/350x350.webp 350w, https://groceries.morrisons.com/images-v3/4b85987b-1398-4173-a0c1-3546047c9d74/64769687-bb7e-4d58-bee1-d7b9d368b978/410x410.webp 410w, https://groceries.morrisons.com/images-v3/4b85987b-1398-4173-a0c1-3546047c9d74/64769687-bb7e-4d58-bee1-d7b9d368b978/500x500.webp 500w, https://groceries.morrisons.com/images-v3/4b85987b-1398-4173-a0c1-3546047c9d74/64769687-bb7e-4d58-bee1-d7b9d368b978/100x100.jpg 100w, https://groceries.morrisons.com/images-v3/4b85987b-1398-4173-a0c1-3546047c9d74/64769687-bb7e-4d58-bee1-d7b9d368b978/150x150.jpg 150w, https://groceries.morrisons.com/images-v3/4b85987b-1398-4173-a0c1-3546047c9d74/64769687-bb7e-4d58-bee1-d7b9d368b978/200x200.jpg 200w, https://groceries.morrisons.com/images-v3/4b85987b-1398-4173-a0c1-3546047c9d74/64769687-bb7e-4d58-bee1-d7b9d368b978/300x300.jpg 300w, https://groceries.morrisons.com/images-v3/4b85987b-1398-4173-a0c1-3546047c9d74/64769687-bb7e-4d58-bee1-d7b9d368b978/350x350.jpg 350w, https://groceries.morrisons.com/images-v3/4b85987b-1398-4173-a0c1-3546047c9d74/64769687-bb7e-4d58-bee1-d7b9d368b978/410x410.jpg 410w, https://groceries.morrisons.com/images-v3/4b85987b-1398-4173-a0c1-3546047c9d74/64769687-bb7e-4d58-bee1-d7b9d368b978/500x500.jpg 500w\" sizes=\"(max-width: 36em) 100px, 175px\" class=\"sc-wislgi-0 eoWEFa\"></div></a>'"
      ]
     },
     "execution_count": 188,
     "metadata": {},
     "output_type": "execute_result"
    }
   ],
   "source": [
    "title_elements.get_attribute('outerHTML')"
   ]
  },
  {
   "cell_type": "code",
   "execution_count": 140,
   "metadata": {},
   "outputs": [],
   "source": [
    "page_extracts.append(BeautifulSoup(driver.page_source, \"html.parser\"))"
   ]
  },
  {
   "cell_type": "code",
   "execution_count": 100,
   "metadata": {},
   "outputs": [
    {
     "data": {
      "text/plain": [
       "26933"
      ]
     },
     "execution_count": 100,
     "metadata": {},
     "output_type": "execute_result"
    }
   ],
   "source": [
    "new_height"
   ]
  },
  {
   "cell_type": "code",
   "execution_count": 172,
   "metadata": {},
   "outputs": [
    {
     "data": {
      "text/plain": [
       "10"
      ]
     },
     "execution_count": 172,
     "metadata": {},
     "output_type": "execute_result"
    }
   ],
   "source": [
    "len(page_extracts)"
   ]
  },
  {
   "cell_type": "code",
   "execution_count": 150,
   "metadata": {},
   "outputs": [],
   "source": [
    "#page_extracts[0]"
   ]
  },
  {
   "cell_type": "code",
   "execution_count": 178,
   "metadata": {},
   "outputs": [],
   "source": [
    "items_dict = {}\n",
    "for p in page_extracts:\n",
    "    p_dict = json.loads(p.text.split('\"productEntities\":')[1].split(',\"missedPromotions\"')[0])\n",
    "    for k in p_dict.keys():\n",
    "        items_dict[k] = p_dict[k]"
   ]
  },
  {
   "cell_type": "code",
   "execution_count": 179,
   "metadata": {},
   "outputs": [
    {
     "data": {
      "text/plain": [
       "30"
      ]
     },
     "execution_count": 179,
     "metadata": {},
     "output_type": "execute_result"
    }
   ],
   "source": [
    "len(items_dict)"
   ]
  },
  {
   "cell_type": "code",
   "execution_count": 175,
   "metadata": {},
   "outputs": [
    {
     "data": {
      "text/plain": [
       "{'productId': '6d8653f2-3f58-4a57-b7f9-b2cf03391946',\n",
       " 'retailerProductId': '112608547',\n",
       " 'name': 'Morrisons Grated Mozzarella',\n",
       " 'available': True,\n",
       " 'maxQuantityReached': False,\n",
       " 'alternatives': [],\n",
       " 'price': {'current': {'amount': '2.75', 'currency': 'GBP'},\n",
       "  'unit': {'label': 'fop.price.per.kg',\n",
       "   'current': {'amount': '11.46', 'currency': 'GBP'}}},\n",
       " 'isInCurrentCatalog': True,\n",
       " 'isInProductList': False,\n",
       " 'categoryPath': ['Fresh', 'Cheese', 'Grated & Sliced', 'Grated Cheese'],\n",
       " 'guaranteedProductLife': {'quantity': 2, 'unit': 'WEEK'},\n",
       " 'brand': 'Morrisons',\n",
       " 'ratingSummary': {'overallRating': '1.8', 'count': 5},\n",
       " 'retailerFinancingPlanIds': [],\n",
       " 'image': {'src': 'https://groceries.morrisons.com/images-v3/4b85987b-1398-4173-a0c1-3546047c9d74/fb5f8b8e-0969-453a-9964-43c64aee4c43/300x300.jpg',\n",
       "  'description': 'Morrisons Grated Mozzarella',\n",
       "  'fopSrcset': 'https://groceries.morrisons.com/images-v3/4b85987b-1398-4173-a0c1-3546047c9d74/fb5f8b8e-0969-453a-9964-43c64aee4c43/100x100.webp 100w, https://groceries.morrisons.com/images-v3/4b85987b-1398-4173-a0c1-3546047c9d74/fb5f8b8e-0969-453a-9964-43c64aee4c43/150x150.webp 150w, https://groceries.morrisons.com/images-v3/4b85987b-1398-4173-a0c1-3546047c9d74/fb5f8b8e-0969-453a-9964-43c64aee4c43/200x200.webp 200w, https://groceries.morrisons.com/images-v3/4b85987b-1398-4173-a0c1-3546047c9d74/fb5f8b8e-0969-453a-9964-43c64aee4c43/300x300.webp 300w, https://groceries.morrisons.com/images-v3/4b85987b-1398-4173-a0c1-3546047c9d74/fb5f8b8e-0969-453a-9964-43c64aee4c43/350x350.webp 350w, https://groceries.morrisons.com/images-v3/4b85987b-1398-4173-a0c1-3546047c9d74/fb5f8b8e-0969-453a-9964-43c64aee4c43/410x410.webp 410w, https://groceries.morrisons.com/images-v3/4b85987b-1398-4173-a0c1-3546047c9d74/fb5f8b8e-0969-453a-9964-43c64aee4c43/500x500.webp 500w, https://groceries.morrisons.com/images-v3/4b85987b-1398-4173-a0c1-3546047c9d74/fb5f8b8e-0969-453a-9964-43c64aee4c43/100x100.jpg 100w, https://groceries.morrisons.com/images-v3/4b85987b-1398-4173-a0c1-3546047c9d74/fb5f8b8e-0969-453a-9964-43c64aee4c43/150x150.jpg 150w, https://groceries.morrisons.com/images-v3/4b85987b-1398-4173-a0c1-3546047c9d74/fb5f8b8e-0969-453a-9964-43c64aee4c43/200x200.jpg 200w, https://groceries.morrisons.com/images-v3/4b85987b-1398-4173-a0c1-3546047c9d74/fb5f8b8e-0969-453a-9964-43c64aee4c43/300x300.jpg 300w, https://groceries.morrisons.com/images-v3/4b85987b-1398-4173-a0c1-3546047c9d74/fb5f8b8e-0969-453a-9964-43c64aee4c43/350x350.jpg 350w, https://groceries.morrisons.com/images-v3/4b85987b-1398-4173-a0c1-3546047c9d74/fb5f8b8e-0969-453a-9964-43c64aee4c43/410x410.jpg 410w, https://groceries.morrisons.com/images-v3/4b85987b-1398-4173-a0c1-3546047c9d74/fb5f8b8e-0969-453a-9964-43c64aee4c43/500x500.jpg 500w',\n",
       "  'bopSrcset': 'https://groceries.morrisons.com/images-v3/4b85987b-1398-4173-a0c1-3546047c9d74/fb5f8b8e-0969-453a-9964-43c64aee4c43/300x300.webp 300w, https://groceries.morrisons.com/images-v3/4b85987b-1398-4173-a0c1-3546047c9d74/fb5f8b8e-0969-453a-9964-43c64aee4c43/500x500.webp 500w, https://groceries.morrisons.com/images-v3/4b85987b-1398-4173-a0c1-3546047c9d74/fb5f8b8e-0969-453a-9964-43c64aee4c43/640x640.webp 640w, https://groceries.morrisons.com/images-v3/4b85987b-1398-4173-a0c1-3546047c9d74/fb5f8b8e-0969-453a-9964-43c64aee4c43/800x800.webp 800w, https://groceries.morrisons.com/images-v3/4b85987b-1398-4173-a0c1-3546047c9d74/fb5f8b8e-0969-453a-9964-43c64aee4c43/960x960.webp 960w, https://groceries.morrisons.com/images-v3/4b85987b-1398-4173-a0c1-3546047c9d74/fb5f8b8e-0969-453a-9964-43c64aee4c43/1120x1120.webp 1120w, https://groceries.morrisons.com/images-v3/4b85987b-1398-4173-a0c1-3546047c9d74/fb5f8b8e-0969-453a-9964-43c64aee4c43/1280x1280.webp 1280w, https://groceries.morrisons.com/images-v3/4b85987b-1398-4173-a0c1-3546047c9d74/fb5f8b8e-0969-453a-9964-43c64aee4c43/300x300.jpg 300w, https://groceries.morrisons.com/images-v3/4b85987b-1398-4173-a0c1-3546047c9d74/fb5f8b8e-0969-453a-9964-43c64aee4c43/500x500.jpg 500w, https://groceries.morrisons.com/images-v3/4b85987b-1398-4173-a0c1-3546047c9d74/fb5f8b8e-0969-453a-9964-43c64aee4c43/640x640.jpg 640w, https://groceries.morrisons.com/images-v3/4b85987b-1398-4173-a0c1-3546047c9d74/fb5f8b8e-0969-453a-9964-43c64aee4c43/800x800.jpg 800w, https://groceries.morrisons.com/images-v3/4b85987b-1398-4173-a0c1-3546047c9d74/fb5f8b8e-0969-453a-9964-43c64aee4c43/960x960.jpg 960w, https://groceries.morrisons.com/images-v3/4b85987b-1398-4173-a0c1-3546047c9d74/fb5f8b8e-0969-453a-9964-43c64aee4c43/1120x1120.jpg 1120w, https://groceries.morrisons.com/images-v3/4b85987b-1398-4173-a0c1-3546047c9d74/fb5f8b8e-0969-453a-9964-43c64aee4c43/1280x1280.jpg 1280w'},\n",
       " 'images': [{'src': 'https://groceries.morrisons.com/images-v3/4b85987b-1398-4173-a0c1-3546047c9d74/fb5f8b8e-0969-453a-9964-43c64aee4c43/500x500.jpg',\n",
       "   'description': 'Morrisons Grated Mozzarella',\n",
       "   'fopSrcset': 'https://groceries.morrisons.com/images-v3/4b85987b-1398-4173-a0c1-3546047c9d74/fb5f8b8e-0969-453a-9964-43c64aee4c43/100x100.webp 100w, https://groceries.morrisons.com/images-v3/4b85987b-1398-4173-a0c1-3546047c9d74/fb5f8b8e-0969-453a-9964-43c64aee4c43/150x150.webp 150w, https://groceries.morrisons.com/images-v3/4b85987b-1398-4173-a0c1-3546047c9d74/fb5f8b8e-0969-453a-9964-43c64aee4c43/200x200.webp 200w, https://groceries.morrisons.com/images-v3/4b85987b-1398-4173-a0c1-3546047c9d74/fb5f8b8e-0969-453a-9964-43c64aee4c43/300x300.webp 300w, https://groceries.morrisons.com/images-v3/4b85987b-1398-4173-a0c1-3546047c9d74/fb5f8b8e-0969-453a-9964-43c64aee4c43/350x350.webp 350w, https://groceries.morrisons.com/images-v3/4b85987b-1398-4173-a0c1-3546047c9d74/fb5f8b8e-0969-453a-9964-43c64aee4c43/410x410.webp 410w, https://groceries.morrisons.com/images-v3/4b85987b-1398-4173-a0c1-3546047c9d74/fb5f8b8e-0969-453a-9964-43c64aee4c43/500x500.webp 500w, https://groceries.morrisons.com/images-v3/4b85987b-1398-4173-a0c1-3546047c9d74/fb5f8b8e-0969-453a-9964-43c64aee4c43/100x100.jpg 100w, https://groceries.morrisons.com/images-v3/4b85987b-1398-4173-a0c1-3546047c9d74/fb5f8b8e-0969-453a-9964-43c64aee4c43/150x150.jpg 150w, https://groceries.morrisons.com/images-v3/4b85987b-1398-4173-a0c1-3546047c9d74/fb5f8b8e-0969-453a-9964-43c64aee4c43/200x200.jpg 200w, https://groceries.morrisons.com/images-v3/4b85987b-1398-4173-a0c1-3546047c9d74/fb5f8b8e-0969-453a-9964-43c64aee4c43/300x300.jpg 300w, https://groceries.morrisons.com/images-v3/4b85987b-1398-4173-a0c1-3546047c9d74/fb5f8b8e-0969-453a-9964-43c64aee4c43/350x350.jpg 350w, https://groceries.morrisons.com/images-v3/4b85987b-1398-4173-a0c1-3546047c9d74/fb5f8b8e-0969-453a-9964-43c64aee4c43/410x410.jpg 410w, https://groceries.morrisons.com/images-v3/4b85987b-1398-4173-a0c1-3546047c9d74/fb5f8b8e-0969-453a-9964-43c64aee4c43/500x500.jpg 500w',\n",
       "   'bopSrcset': 'https://groceries.morrisons.com/images-v3/4b85987b-1398-4173-a0c1-3546047c9d74/fb5f8b8e-0969-453a-9964-43c64aee4c43/300x300.webp 300w, https://groceries.morrisons.com/images-v3/4b85987b-1398-4173-a0c1-3546047c9d74/fb5f8b8e-0969-453a-9964-43c64aee4c43/500x500.webp 500w, https://groceries.morrisons.com/images-v3/4b85987b-1398-4173-a0c1-3546047c9d74/fb5f8b8e-0969-453a-9964-43c64aee4c43/640x640.webp 640w, https://groceries.morrisons.com/images-v3/4b85987b-1398-4173-a0c1-3546047c9d74/fb5f8b8e-0969-453a-9964-43c64aee4c43/800x800.webp 800w, https://groceries.morrisons.com/images-v3/4b85987b-1398-4173-a0c1-3546047c9d74/fb5f8b8e-0969-453a-9964-43c64aee4c43/960x960.webp 960w, https://groceries.morrisons.com/images-v3/4b85987b-1398-4173-a0c1-3546047c9d74/fb5f8b8e-0969-453a-9964-43c64aee4c43/1120x1120.webp 1120w, https://groceries.morrisons.com/images-v3/4b85987b-1398-4173-a0c1-3546047c9d74/fb5f8b8e-0969-453a-9964-43c64aee4c43/1280x1280.webp 1280w, https://groceries.morrisons.com/images-v3/4b85987b-1398-4173-a0c1-3546047c9d74/fb5f8b8e-0969-453a-9964-43c64aee4c43/300x300.jpg 300w, https://groceries.morrisons.com/images-v3/4b85987b-1398-4173-a0c1-3546047c9d74/fb5f8b8e-0969-453a-9964-43c64aee4c43/500x500.jpg 500w, https://groceries.morrisons.com/images-v3/4b85987b-1398-4173-a0c1-3546047c9d74/fb5f8b8e-0969-453a-9964-43c64aee4c43/640x640.jpg 640w, https://groceries.morrisons.com/images-v3/4b85987b-1398-4173-a0c1-3546047c9d74/fb5f8b8e-0969-453a-9964-43c64aee4c43/800x800.jpg 800w, https://groceries.morrisons.com/images-v3/4b85987b-1398-4173-a0c1-3546047c9d74/fb5f8b8e-0969-453a-9964-43c64aee4c43/960x960.jpg 960w, https://groceries.morrisons.com/images-v3/4b85987b-1398-4173-a0c1-3546047c9d74/fb5f8b8e-0969-453a-9964-43c64aee4c43/1120x1120.jpg 1120w, https://groceries.morrisons.com/images-v3/4b85987b-1398-4173-a0c1-3546047c9d74/fb5f8b8e-0969-453a-9964-43c64aee4c43/1280x1280.jpg 1280w'}],\n",
       " 'icons': {'certification': [], 'legal': []},\n",
       " 'offers': [{'id': 'a2e82bd0-a740-4894-a7f7-52bdeb53bb5a',\n",
       "   'retailerPromotionId': '1008958032',\n",
       "   'description': 'Buy 2 for £4.50',\n",
       "   'type': 'OFFER',\n",
       "   'presentationMode': 'DEFAULT',\n",
       "   'requiredProductQuantity': 2}],\n",
       " 'offer': {'id': 'a2e82bd0-a740-4894-a7f7-52bdeb53bb5a',\n",
       "  'description': 'Buy 2 for £4.50',\n",
       "  'type': 'OFFER',\n",
       "  'retailerPromotionId': '1008958032',\n",
       "  'requiredProductQuantity': 2,\n",
       "  'presentationMode': 'DEFAULT'},\n",
       " 'size': {'value': '240g'},\n",
       " 'featured': 'false'}"
      ]
     },
     "execution_count": 175,
     "metadata": {},
     "output_type": "execute_result"
    }
   ],
   "source": [
    "items_dict[list(items_dict.keys())[-1]]"
   ]
  },
  {
   "cell_type": "code",
   "execution_count": null,
   "metadata": {},
   "outputs": [],
   "source": []
  }
 ],
 "metadata": {
  "kernelspec": {
   "display_name": "Python 3",
   "language": "python",
   "name": "python3"
  },
  "language_info": {
   "codemirror_mode": {
    "name": "ipython",
    "version": 3
   },
   "file_extension": ".py",
   "mimetype": "text/x-python",
   "name": "python",
   "nbconvert_exporter": "python",
   "pygments_lexer": "ipython3",
   "version": "3.6.7"
  }
 },
 "nbformat": 4,
 "nbformat_minor": 2
}
